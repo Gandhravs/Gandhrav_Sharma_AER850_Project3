{
  "nbformat": 4,
  "nbformat_minor": 0,
  "metadata": {
    "colab": {
      "provenance": [],
      "mount_file_id": "1-5SeXMKkxYBruXBQZHJeqjXPa3DtaXum",
      "authorship_tag": "ABX9TyOW6j6AvW6TFZcdruYyNwJi",
      "include_colab_link": true
    },
    "kernelspec": {
      "name": "python3",
      "display_name": "Python 3"
    },
    "language_info": {
      "name": "python"
    }
  },
  "cells": [
    {
      "cell_type": "markdown",
      "metadata": {
        "id": "view-in-github",
        "colab_type": "text"
      },
      "source": [
        "<a href=\"https://colab.research.google.com/github/Gandhravs/Gandhrav_Sharma_AER850_Project3/blob/main/AER_850_PROJECT_3_FINAL_TRY.ipynb\" target=\"_parent\"><img src=\"https://colab.research.google.com/assets/colab-badge.svg\" alt=\"Open In Colab\"/></a>"
      ]
    },
    {
      "cell_type": "code",
      "execution_count": 1,
      "metadata": {
        "id": "LGGWJw_xI_ne"
      },
      "outputs": [],
      "source": [
        "# starting on friday 12/13/2024"
      ]
    }
  ]
}