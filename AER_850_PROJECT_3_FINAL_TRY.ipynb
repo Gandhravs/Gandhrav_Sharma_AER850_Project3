{
  "nbformat": 4,
  "nbformat_minor": 0,
  "metadata": {
    "colab": {
      "provenance": [],
      "mount_file_id": "1-5SeXMKkxYBruXBQZHJeqjXPa3DtaXum",
      "authorship_tag": "ABX9TyPoqY0SgDincfrT6iFrhfCl",
      "include_colab_link": true
    },
    "kernelspec": {
      "name": "python3",
      "display_name": "Python 3"
    },
    "language_info": {
      "name": "python"
    }
  },
  "cells": [
    {
      "cell_type": "markdown",
      "metadata": {
        "id": "view-in-github",
        "colab_type": "text"
      },
      "source": [
        "<a href=\"https://colab.research.google.com/github/Gandhravs/Gandhrav_Sharma_AER850_Project3/blob/main/AER_850_PROJECT_3_FINAL_TRY.ipynb\" target=\"_parent\"><img src=\"https://colab.research.google.com/assets/colab-badge.svg\" alt=\"Open In Colab\"/></a>"
      ]
    },
    {
      "cell_type": "code",
      "execution_count": null,
      "metadata": {
        "id": "LGGWJw_xI_ne"
      },
      "outputs": [],
      "source": [
        "# starting on friday 12/13/2024"
      ]
    },
    {
      "cell_type": "code",
      "source": [
        "# Step 1: Object Masking with Contour Extraction\n",
        "\n",
        "# Import necessary libraries\n",
        "import cv2\n",
        "import numpy as np\n",
        "from matplotlib import pyplot as plt\n",
        "\n",
        "# Define the path to the input image\n",
        "image_path = \"/content/drive/MyDrive/AER_850_DATA/data/motherboard_image.JPEG\"\n",
        "\n",
        "# Load and preprocess the image\n",
        "original_image = cv2.imread(image_path, cv2.IMREAD_COLOR)\n",
        "rotated_image = cv2.rotate(original_image, cv2.ROTATE_90_CLOCKWISE)\n",
        "\n",
        "# Apply Gaussian blur to smoothen the image\n",
        "blurred_image = cv2.GaussianBlur(original_image, (47, 47), 4)\n",
        "\n",
        "# Convert to grayscale for further processing\n",
        "gray_image = cv2.cvtColor(blurred_image, cv2.COLOR_BGR2GRAY)\n",
        "rotated_gray_image = cv2.rotate(gray_image, cv2.ROTATE_90_CLOCKWISE)\n",
        "\n",
        "# Perform adaptive thresholding to segment the image\n",
        "threshold_image = cv2.adaptiveThreshold(\n",
        "    rotated_gray_image, 255, cv2.ADAPTIVE_THRESH_MEAN_C, cv2.THRESH_BINARY, 55, 7)\n",
        "\n",
        "# Detect edges using the Canny edge detector\n",
        "edges_detected = cv2.Canny(threshold_image, 50, 350)\n",
        "dilated_edges = cv2.dilate(edges_detected, None, iterations=12)\n",
        "\n",
        "# Identify contours from the edges\n",
        "detected_contours, _ = cv2.findContours(dilated_edges, cv2.RETR_EXTERNAL, cv2.CHAIN_APPROX_SIMPLE)\n",
        "\n",
        "# Prepare a blank mask to draw the largest contour\n",
        "contour_mask = np.zeros_like(rotated_image)\n",
        "\n",
        "# Find and draw the largest contour\n",
        "largest_contour = max(detected_contours, key=cv2.contourArea)\n",
        "cv2.drawContours(\n",
        "    image=contour_mask, contours=[largest_contour], contourIdx=-1, color=(255, 255, 255), thickness=cv2.FILLED\n",
        ")\n",
        "\n",
        "# Apply the mask to the original rotated image\n",
        "\n",
        "final_masked_image = cv2.bitwise_and(contour_mask, rotated_image)\n",
        "\n",
        "# change to rgb\n",
        "edges_rgb = cv2.cvtColor(edges_detected, cv2.COLOR_BGR2RGB)\n",
        "mask_rgb = cv2.cvtColor(contour_mask, cv2.COLOR_BGR2RGB)\n",
        "final_masked_rgb = cv2.cvtColor(final_masked_image, cv2.COLOR_BGR2RGB)\n",
        "\n",
        "\n",
        "# Display the result\n",
        "\n",
        "plt.figure(figsize=(20, 5))\n",
        "plt.subplot(141)\n",
        "plt.imshow(edges_rgb)\n",
        "plt.title('Edge Detection')\n",
        "plt.axis('off')\n",
        "\n",
        "plt.subplot(143)\n",
        "plt.imshow(mask_rgb)\n",
        "plt.title('Masked Image')\n",
        "plt.axis('off')\n",
        "\n",
        "plt.subplot(144)\n",
        "plt.imshow(final_masked_rgb)\n",
        "plt.title('Final Extracted PCB')\n",
        "plt.axis('off')\n",
        "\n",
        "plt.tight_layout()\n",
        "plt.show()"
      ],
      "metadata": {
        "id": "Z_CviAaFpYsP"
      },
      "execution_count": null,
      "outputs": []
    },
    {
      "cell_type": "code",
      "source": [
        "# Step 2 Yolo V8 install\n",
        "\n",
        "!pip install ultralytics"
      ],
      "metadata": {
        "id": "EGGYuH_kpczD"
      },
      "execution_count": null,
      "outputs": []
    },
    {
      "cell_type": "code",
      "source": [
        "# Step 2 Yolo V8\n",
        "\n",
        "from ultralytics import YOLO\n",
        "\n",
        "# Load the YOLOv8 model\n",
        "model = YOLO(\"yolov8n.pt\")\n",
        "\n",
        "model.train(data=\"/content/drive/MyDrive/Project_Data/data/data.yaml\" , epochs=175, imgsz = 1200, batch = 3, name = 'yolo_model_project_rasp')  # train the model"
      ],
      "metadata": {
        "id": "4wPbIS5gphh_"
      },
      "execution_count": null,
      "outputs": []
    },
    {
      "cell_type": "code",
      "source": [],
      "metadata": {
        "id": "wWhIximNpnMG"
      },
      "execution_count": null,
      "outputs": []
    }
  ]
}